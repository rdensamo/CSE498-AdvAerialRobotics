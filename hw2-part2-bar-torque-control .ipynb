{
 "cells": [
  {
   "cell_type": "code",
   "execution_count": null,
   "metadata": {},
   "outputs": [],
   "source": [
    "%pylab inline\n",
    "plt.style.use('dark_background')\n",
    "pylab.rcParams['figure.figsize'] = (10.0, 6.0)"
   ]
  },
  {
   "cell_type": "code",
   "execution_count": null,
   "metadata": {},
   "outputs": [],
   "source": [
    "# Position Control Torque Update "
   ]
  },
  {
   "cell_type": "code",
   "execution_count": 2,
   "metadata": {},
   "outputs": [
    {
     "name": "stdout",
     "output_type": "stream",
     "text": [
      "Requirement already satisfied: JSAnimation in c:\\users\\rbd218\\anaconda3\\lib\\site-packages (0.1)\n"
     ]
    }
   ],
   "source": [
    "!pip install JSAnimation"
   ]
  },
  {
   "cell_type": "code",
   "execution_count": 3,
   "metadata": {},
   "outputs": [
    {
     "name": "stderr",
     "output_type": "stream",
     "text": [
      "<ipython-input-3-07ffb3b843ea>:17: VisibleDeprecationWarning: Creating an ndarray from ragged nested sequences (which is a list-or-tuple of lists-or-tuples-or ndarrays with different lengths or shapes) is deprecated. If you meant to do this, you must specify 'dtype=object' when creating the ndarray\n",
      "  dd_theta_dt = np.ndarray((3,), dtype=float, buffer = np.array([0.0, 0.0, g])) # angular acceleration\n"
     ]
    },
    {
     "ename": "NameError",
     "evalue": "name 'z_positions' is not defined",
     "output_type": "error",
     "traceback": [
      "\u001b[1;31m---------------------------------------------------------------------------\u001b[0m",
      "\u001b[1;31mNameError\u001b[0m                                 Traceback (most recent call last)",
      "\u001b[1;32m<ipython-input-3-07ffb3b843ea>\u001b[0m in \u001b[0;36m<module>\u001b[1;34m\u001b[0m\n\u001b[0;32m     35\u001b[0m \u001b[1;31m# iterate through this while loop until desired\u001b[0m\u001b[1;33m\u001b[0m\u001b[1;33m\u001b[0m\u001b[1;33m\u001b[0m\u001b[0m\n\u001b[0;32m     36\u001b[0m \u001b[1;31m# target velocity is reached\u001b[0m\u001b[1;33m\u001b[0m\u001b[1;33m\u001b[0m\u001b[1;33m\u001b[0m\u001b[0m\n\u001b[1;32m---> 37\u001b[1;33m \u001b[0mz_positions\u001b[0m\u001b[1;33m.\u001b[0m\u001b[0mappend\u001b[0m\u001b[1;33m(\u001b[0m\u001b[0mpose\u001b[0m\u001b[1;33m[\u001b[0m\u001b[1;36m2\u001b[0m\u001b[1;33m]\u001b[0m\u001b[1;33m)\u001b[0m\u001b[1;33m\u001b[0m\u001b[1;33m\u001b[0m\u001b[0m\n\u001b[0m\u001b[0;32m     38\u001b[0m \u001b[0mtime_intervals\u001b[0m\u001b[1;33m.\u001b[0m\u001b[0mappend\u001b[0m\u001b[1;33m(\u001b[0m\u001b[1;33m(\u001b[0m\u001b[0mt\u001b[0m\u001b[1;33m)\u001b[0m\u001b[1;33m)\u001b[0m\u001b[1;33m\u001b[0m\u001b[1;33m\u001b[0m\u001b[0m\n\u001b[0;32m     39\u001b[0m \u001b[1;32mwhile\u001b[0m \u001b[0mt\u001b[0m \u001b[1;33m<\u001b[0m \u001b[0mrun_time\u001b[0m \u001b[1;33m:\u001b[0m\u001b[1;33m\u001b[0m\u001b[1;33m\u001b[0m\u001b[0m\n",
      "\u001b[1;31mNameError\u001b[0m: name 'z_positions' is not defined"
     ]
    }
   ],
   "source": [
    "import time\n",
    "import numpy as np\n",
    "\n",
    "'''\n",
    "Free-Fall Position Update\n",
    "'''\n",
    "theta_positions = []\n",
    "time_intervals = []\n",
    "delta_t = .005 # in seconds \n",
    "g = np.ndarray((3,), dtype=float, buffer=np.array([0.0, 0.0, -9.81]))\n",
    "t = 0\n",
    "run_time  = 2\n",
    "\n",
    "# initial values \n",
    "theta = 0.0\n",
    "d_theta_dt = np.ndarray((3,), dtype=float, buffer=np.array([0.0, 0.0, 0.0])) # angular velocity \n",
    "dd_theta_dt = np.ndarray((3,), dtype=float, buffer = np.array([0.0, 0.0, g])) # angular acceleration\n",
    "\n",
    "# target\n",
    "target = np.pi/4  \n",
    "\n",
    "# control parameters\n",
    "\n",
    "# best so far \n",
    "kp = 5\n",
    "kd = 5\n",
    "ki = 0 \n",
    "\n",
    "# Experimented with these values : \n",
    "# kp = kd = ki = 1 does not converge at all !\n",
    "# kp = 10 and kd = 1 and ki = 0 converges slowly # 7 seconds \n",
    "\n",
    "\n",
    "# iterate through this while loop until desired \n",
    "# target velocity is reached \n",
    "theta_positions.append(pose[2])\n",
    "time_intervals.append((t))\n",
    "while t < run_time :\n",
    "        \n",
    "  \n",
    "    # PD control for acceleration in z - direction : \n",
    "    dd_theta_dt = kp * (target - pose) + kd * (-d_theta_dt) + ki * (accumulated_pos_error[2])\n",
    "    u_input = dd_pose_dt + -g\n",
    "    \n",
    "    # TODO: may need to use sin, cos to model the turn \n",
    "    # TODO: will have to factor in length not just orientation equation\n",
    "    # TODO: need to watch youtube video on this \n",
    "    \n",
    "    # update predicted current z-direction velocity of object (initially 0) : \n",
    "    d_pose_dt = d_pose_dt + u_input * delta_t\n",
    "    \n",
    "    # update current position : \n",
    "    pose = pose + d_pose_dt  \n",
    "    \n",
    "    t = t + delta_t\n",
    "    \n",
    "    print(theta)\n",
    "    theta_positions.append(theta)\n",
    "    time_intervals.append(t)\n",
    "    # time.sleep(delta_t) # in seconds\n",
    "    \n",
    "\n",
    "import matplotlib.pyplot as plt\n",
    "from matplotlib.animation import FuncAnimation\n",
    "\n",
    "# print(\"Time (delta_t=0.5) : \", time_intervals)\n",
    "# print(\"Z positon at time t: \",z_positions)\n",
    "\n",
    "plt.title('Time vs. Theta positon')\n",
    "plt.xlabel('Time (delta_t=0.005) : ')\n",
    "plt.ylabel('Theta positon at time t: ')\n",
    "\n",
    "plt.plot(time_intervals, z_positions)\n",
    "\n",
    "plt.show()"
   ]
  },
  {
   "cell_type": "code",
   "execution_count": 4,
   "metadata": {
    "scrolled": false
   },
   "outputs": [
    {
     "ename": "SyntaxError",
     "evalue": "EOL while scanning string literal (<ipython-input-4-d81e09e57268>, line 45)",
     "output_type": "error",
     "traceback": [
      "\u001b[1;36m  File \u001b[1;32m\"<ipython-input-4-d81e09e57268>\"\u001b[1;36m, line \u001b[1;32m45\u001b[0m\n\u001b[1;33m    plt.title('Simulation of Propeller )\u001b[0m\n\u001b[1;37m                                        ^\u001b[0m\n\u001b[1;31mSyntaxError\u001b[0m\u001b[1;31m:\u001b[0m EOL while scanning string literal\n"
     ]
    }
   ],
   "source": [
    "from numpy import sin, cos\n",
    "import numpy as np\n",
    "import matplotlib.pyplot as plt\n",
    "import scipy.integrate as integrate\n",
    "import matplotlib.animation as animation\n",
    "\n",
    "\n",
    "         \n",
    "from JSAnimation import IPython_display    \n",
    "from IPython.display import HTML\n",
    "\n",
    "#------------------------------------------------------------\n",
    "# set up figure and animation\n",
    "time = 1.0\n",
    "fig = plt.figure() \n",
    "ax = fig.add_subplot(111, aspect='equal', autoscale_on=False,\n",
    "                     xlim=(-5, 5), ylim=(-5, 5))\n",
    "ax.grid()\n",
    "\n",
    "line, = ax.plot([], [], 'o-', lw=2)\n",
    "time_text = ax.text(0.02, 0.95, '', transform=ax.transAxes)\n",
    "torque_text = ax.text(0.02, 0.90, '', transform=ax.transAxes)\n",
    "\n",
    "def init():\n",
    "    \"\"\"initialize animation\"\"\"\n",
    "    line.set_data([], [])\n",
    "    time_text.set_text('')\n",
    "    torque_text.set_text('')\n",
    "    return line, time_text, torque_text\n",
    "\n",
    "def animate(i):\n",
    "    \"\"\"perform animation step\"\"\"\n",
    "    line.set_data(([ -2     ,   0 , 2],[ 0 , 0 , 0] ))\n",
    "    # time_text.set_text('time = %.1f', time)\n",
    "    # energy_text.set_text('energy = %.3f J' % pendulum.energy())\n",
    "    return line, time_text ,torque_text\n",
    "\n",
    "# choose the interval based on dt and the time to animate one step\n",
    "from time import time\n",
    "t0 = time()\n",
    "animate(0)\n",
    "t1 = time()\n",
    "interval = 1000 * dt - (t1 - t0)\n",
    "\n",
    "plt.title('Simulation of Propeller )\n",
    "plt.xlabel('X-Axis')\n",
    "plt.ylabel('Z-Axis')\n",
    "animation = animation.FuncAnimation(fig, animate, frames=3,\n",
    "                              interval=interval, blit=True, init_func=init)\n",
    "\n",
    "\n",
    "HTML(animation.to_jshtml())\n"
   ]
  },
  {
   "cell_type": "code",
   "execution_count": null,
   "metadata": {},
   "outputs": [],
   "source": []
  }
 ],
 "metadata": {
  "kernelspec": {
   "display_name": "Python 3",
   "language": "python",
   "name": "python3"
  },
  "language_info": {
   "codemirror_mode": {
    "name": "ipython",
    "version": 3
   },
   "file_extension": ".py",
   "mimetype": "text/x-python",
   "name": "python",
   "nbconvert_exporter": "python",
   "pygments_lexer": "ipython3",
   "version": "3.8.5"
  }
 },
 "nbformat": 4,
 "nbformat_minor": 4
}
