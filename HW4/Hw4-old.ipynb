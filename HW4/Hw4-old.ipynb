{
 "cells": [
  {
   "cell_type": "code",
   "execution_count": 94,
   "metadata": {},
   "outputs": [
    {
     "name": "stdout",
     "output_type": "stream",
     "text": [
      "Populating the interactive namespace from numpy and matplotlib\n"
     ]
    },
    {
     "name": "stderr",
     "output_type": "stream",
     "text": [
      "c:\\users\\rbd218\\appdata\\local\\programs\\python\\python38\\lib\\site-packages\\IPython\\core\\magics\\pylab.py:159: UserWarning: pylab import has clobbered these variables: ['angle']\n",
      "`%matplotlib` prevents importing * from pylab and numpy\n",
      "  warn(\"pylab import has clobbered these variables: %s\"  % clobbered +\n"
     ]
    }
   ],
   "source": [
    "%pylab inline\n",
    "plt.style.use('dark_background')\n",
    "pylab.rcParams['figure.figsize'] = (10.0, 6.0)"
   ]
  },
  {
   "cell_type": "code",
   "execution_count": 95,
   "metadata": {},
   "outputs": [
    {
     "name": "stdout",
     "output_type": "stream",
     "text": [
      "Requirement already satisfied: JSAnimation in c:\\users\\rbd218\\appdata\\local\\programs\\python\\python38\\lib\\site-packages (0.1)\n"
     ]
    }
   ],
   "source": [
    "!pip install JSAnimation"
   ]
  },
  {
   "cell_type": "markdown",
   "metadata": {},
   "source": [
    "# Part 4a"
   ]
  },
  {
   "cell_type": "code",
   "execution_count": 1,
   "metadata": {},
   "outputs": [
    {
     "ename": "NameError",
     "evalue": "name 'np' is not defined",
     "output_type": "error",
     "traceback": [
      "\u001b[1;31m---------------------------------------------------------------------------\u001b[0m",
      "\u001b[1;31mNameError\u001b[0m                                 Traceback (most recent call last)",
      "\u001b[1;32m<ipython-input-1-44f33e43ed0b>\u001b[0m in \u001b[0;36m<module>\u001b[1;34m\u001b[0m\n\u001b[1;32m----> 1\u001b[1;33m \u001b[0mpi\u001b[0m \u001b[1;33m=\u001b[0m \u001b[0mnp\u001b[0m\u001b[1;33m.\u001b[0m\u001b[0mpi\u001b[0m\u001b[1;33m\u001b[0m\u001b[1;33m\u001b[0m\u001b[0m\n\u001b[0m",
      "\u001b[1;31mNameError\u001b[0m: name 'np' is not defined"
     ]
    }
   ],
   "source": [
    "pi = np.pi\n"
   ]
  },
  {
   "cell_type": "code",
   "execution_count": 97,
   "metadata": {},
   "outputs": [],
   "source": [
    "# import random\n",
    "# random.seed(133)\n",
    "# random.uniform(1, 2)"
   ]
  },
  {
   "cell_type": "code",
   "execution_count": 98,
   "metadata": {},
   "outputs": [
    {
     "data": {
      "text/plain": [
       "array([[ 0.98006658, -0.09983342,  0.        ],\n",
       "       [ 0.77723879,  0.70365673,  0.52359878],\n",
       "       [ 0.0097344 ,  0.99592884,  0.6981317 ],\n",
       "       [-0.76484219,  0.56464247,  0.78539816],\n",
       "       [-0.98374851, -0.27686582,  0.83775804],\n",
       "       [-0.48794557, -0.9172266 ,  0.87266463]])"
      ]
     },
     "execution_count": 98,
     "metadata": {},
     "output_type": "execute_result"
    }
   ],
   "source": [
    "# Create Shape \n",
    "# --> TODO: Need a way to make shape that is full-rank\n",
    "# --> skipping making it full-rank for now \n",
    "\n",
    "import numpy as np\n",
    "pi = np.pi\n",
    "\n",
    "\n",
    "# Reference for plotting different shapes\n",
    "#   : https://stackoverflow.com/questions/15714159/drawing-a-star-what-is-sine-and-cosine-actually-in-reference-to\n",
    "\n",
    "x = 0\n",
    "y = 0\n",
    "angle = 0\n",
    "num_rotors = 6\n",
    "angle_step = (2*pi) / num_rotors \n",
    "D_list = list()\n",
    "\n",
    "'''\n",
    "creates a D-array / shape with n number of rotors \n",
    "'''\n",
    "for i in range(num_rotors) : \n",
    "    angle = angle_step * i \n",
    "    # angle = angle_step #* random.uniform(1, 2)\n",
    "    # append  x, z, theta \n",
    "    \n",
    "    # originally a regular polygon had only rank 2 \n",
    "    # D_list.append([np.cos(angle), np.sin(angle), angle]) ==> ONLY RANK 2 \n",
    "    \n",
    "    # HAD TO DISTRORT SHAPE TO GET RANK 3 \n",
    "    D_list.append([np.cos(angle - .2 - i/num_rotors ), np.sin(angle - .1 - i/num_rotors), angle/(i + 1)]) # ==> RANK 3 BETTER # ==> RANK 3 BETTER\n",
    "    # STILL DID NOT ACHIEVE FULL RANK ?? \n",
    "    \n",
    "\n",
    "D_list\n",
    "D_array = np.array(D_list)\n",
    "\n",
    "D_array\n"
   ]
  },
  {
   "cell_type": "code",
   "execution_count": 99,
   "metadata": {},
   "outputs": [],
   "source": [
    "import matplotlib.pyplot as plt\n",
    "from mpl_toolkits.mplot3d import axes3d\n",
    "from matplotlib import cm\n",
    "import numpy\n",
    "\n",
    "import scipy.integrate as integrate\n",
    "import matplotlib.animation as animation\n",
    "\n",
    "\n",
    "         \n",
    "from JSAnimation import IPython_display    \n",
    "from IPython.display import HTML\n",
    "\n",
    "from matplotlib import pyplot as plt\n",
    "from scipy.linalg import norm\n"
   ]
  },
  {
   "cell_type": "code",
   "execution_count": 100,
   "metadata": {},
   "outputs": [],
   "source": [
    "# Before Transformation"
   ]
  },
  {
   "cell_type": "code",
   "execution_count": 101,
   "metadata": {},
   "outputs": [
    {
     "data": {
      "text/plain": [
       "[<matplotlib.lines.Line2D at 0x22abdcab370>]"
      ]
     },
     "execution_count": 101,
     "metadata": {},
     "output_type": "execute_result"
    },
    {
     "data": {
      "image/png": "[encoded data removed]",
      "text/plain": [
       "<Figure size 720x432 with 1 Axes>"
      ]
     },
     "metadata": {},
     "output_type": "display_data"
    }
   ],
   "source": [
    "\n",
    "fig, ax = plt.subplots()\n",
    "\n",
    "\n",
    "# Plot D_array - x, y, alpha/theta : \n",
    "\n",
    "\n",
    "# Reference for understanding ax.plot \n",
    "#   : https://matplotlib.org/stable/api/_as_gen/matplotlib.axes.Axes.plot.html\n",
    "\n",
    "# ax.plot(list(D_array[:,0]), list(list(D_array[:,1]) )) # Doesn't include the line first to last point\n",
    "\n",
    "ax.plot(list(D_array[:,0]) + [list(D_array[:,0])[0]], list(list(D_array[:,1])) + [list(D_array[:,1])[0]],'g')\n",
    "\n",
    "\n"
   ]
  },
  {
   "cell_type": "code",
   "execution_count": 102,
   "metadata": {},
   "outputs": [
    {
     "name": "stdout",
     "output_type": "stream",
     "text": [
      "Rank is 3 but do not understand how to make this full rank (=6) so continued with part 4b\n"
     ]
    },
    {
     "data": {
      "text/plain": [
       "array([[ 1.        ,  0.8660254 ,  0.76604444,  0.70710678,  0.66913061,\n",
       "         0.64278761],\n",
       "       [ 0.        ,  0.5       ,  0.64278761,  0.70710678,  0.74314483,\n",
       "         0.76604444],\n",
       "       [ 0.09983342, -0.22076521, -0.7566686 , -0.94008762, -0.54580822,\n",
       "         0.2157939 ]])"
      ]
     },
     "execution_count": 102,
     "metadata": {},
     "output_type": "execute_result"
    }
   ],
   "source": [
    "# To Test rank / print only / comment this out later and use create_A_array(D_array)\n",
    "''''''\n",
    "a = list(D_array[:,2])\n",
    "\n",
    "x = list(D_array[:,0])\n",
    "z = list(D_array[:,1])\n",
    "a = list(D_array[:,2])\n",
    "# direction vectors \n",
    "# TODO: in the future could implement this part to work for n rotors rather than hardcoding for 6 : \n",
    "fx_d = np.array([np.cos(a[0]),np.cos(a[1]), np.cos(a[2]), np.cos(a[3]), np.cos(a[4]), np.cos(a[5])])\n",
    "fz_d = np.array([np.sin(a[0]),np.sin(a[1]), np.sin(a[2]), np.sin(a[3]), np.sin(a[4]), np.sin(a[5])])\n",
    "t_d = np.array([x[0]*np.sin(a[0]) - np.cos(a[0])*z[0],\n",
    "                x[1]*np.sin(a[1]) - np.cos(a[1])*z[1], \n",
    "                x[2]*np.sin(a[2]) - np.cos(a[2])*z[2],\n",
    "                x[3]*np.sin(a[3]) - np.cos(a[3])*z[3], \n",
    "                x[4]*np.sin(a[4]) - np.cos(a[4])*z[4],\n",
    "                x[5]*np.sin(a[5]) - np.cos(a[5])*z[5]])\n",
    "\n",
    "A = np.array([fx_d, fz_d, t_d])\n",
    "\n",
    "A[:0] # have an array A of fx, fz, t \n",
    "A[:,5] # last point in octagon \n",
    "rank = np.linalg.matrix_rank(A) # Why is this rank 2 not 6 ? \n",
    "# I think only a scalene triangle would be full-rank ?? or is the maximum rank possible 3 even with 6 rotors ? \n",
    "# the rank is equal to the number of independent columns so there should be 6 \n",
    "# ***unless it is the transpose of A here then it would be the full rank = 3 ?\n",
    "\n",
    "# Going to continue with just rank = 3 for now because I do not know \n",
    "# A\n",
    "print(\"Rank is\", rank, \"but do not understand how to make this full rank (=6) so continued with part 4b\")\n",
    "A"
   ]
  },
  {
   "cell_type": "code",
   "execution_count": 103,
   "metadata": {},
   "outputs": [
    {
     "data": {
      "text/plain": [
       "array([[ 1.        ,  0.8660254 ,  0.76604444,  0.70710678,  0.66913061,\n",
       "         0.64278761],\n",
       "       [ 0.        ,  0.5       ,  0.64278761,  0.70710678,  0.74314483,\n",
       "         0.76604444],\n",
       "       [ 0.09983342, -0.22076521, -0.7566686 , -0.94008762, -0.54580822,\n",
       "         0.2157939 ]])"
      ]
     },
     "execution_count": 103,
     "metadata": {},
     "output_type": "execute_result"
    }
   ],
   "source": [
    "# A is the direction of the force vector and the cross product of the point and \n",
    "# the force \n",
    "\n",
    "# A = A(D) \n",
    "def create_A_array(RA_array) : # rotation ? \n",
    "    # alpha , a is D[:2]\n",
    "    '''\n",
    "    Takes alpha and the D_array of poa = list(D_array[:,2])\n",
    "fx_d = np.array([np.cos(a[0]),np.cos(a[1]), np.cos(a[2]), np.cos(a[3]), np.cos(a[4]), np.cos(a[5])])\n",
    "fx_dints and orientations and \n",
    "    create an A array \n",
    "    A is the direction of the force vector and the cross product of the point \n",
    "    '''\n",
    "    x = list(RA_array[:,0])\n",
    "    z = list(RA_array[:,1])\n",
    "    a = list(RA_array[:,2])\n",
    "    # direction vectors \n",
    "    # TODO: in the future could implement this part to work for n rotors rather than hardcoding for 6 : \n",
    "    fx_d = np.array([np.cos(a[0]),np.cos(a[1]), np.cos(a[2]), np.cos(a[3]), np.cos(a[4]), np.cos(a[5])])\n",
    "    fz_d = np.array([np.sin(a[0]),np.sin(a[1]), np.sin(a[2]), np.sin(a[3]), np.sin(a[4]), np.sin(a[5])])\n",
    "    t_d = np.array([x[0]*np.sin(a[0]) - np.cos(a[0])*z[0],\n",
    "                    x[1]*np.sin(a[1]) - np.cos(a[1])*z[1], \n",
    "                    x[2]*np.sin(a[2]) - np.cos(a[2])*z[2],\n",
    "                    x[3]*np.sin(a[3]) - np.cos(a[3])*z[3], \n",
    "                    x[4]*np.sin(a[4]) - np.cos(a[4])*z[4],\n",
    "                    x[5]*np.sin(a[5]) - np.cos(a[5])*z[5]])\n",
    "\n",
    "    A = np.array([fx_d, fz_d, t_d])\n",
    "    return A\n",
    "\n",
    "A = create_A_array(RA_array)\n",
    "A"
   ]
  },
  {
   "cell_type": "code",
   "execution_count": null,
   "metadata": {},
   "outputs": [],
   "source": []
  },
  {
   "cell_type": "markdown",
   "metadata": {},
   "source": [
    "# Part 4b"
   ]
  },
  {
   "cell_type": "code",
   "execution_count": 104,
   "metadata": {},
   "outputs": [
    {
     "data": {
      "text/plain": [
       "array([[ 1., -0.,  0.],\n",
       "       [ 0.,  1.,  0.],\n",
       "       [ 0.,  0.,  1.]])"
      ]
     },
     "execution_count": 104,
     "metadata": {},
     "output_type": "execute_result"
    }
   ],
   "source": [
    "# rotatation matrix\n",
    "def rotate(theta) : \n",
    "    A = np.array([[np.cos(theta), -np.sin(theta), 0], \n",
    "         [np.sin(theta), np.cos(theta), 0], \n",
    "         [0,0,1]])\n",
    "    return A\n",
    "\n",
    "rotate(0)"
   ]
  },
  {
   "cell_type": "code",
   "execution_count": 105,
   "metadata": {},
   "outputs": [
    {
     "name": "stdout",
     "output_type": "stream",
     "text": [
      "(3,)\n",
      "(3, 3)\n",
      "[ 0.98006658 -0.09983342  0.        ]\n"
     ]
    },
    {
     "data": {
      "text/plain": [
       "array([[ 1., -0.,  0.],\n",
       "       [ 0.,  1.,  0.],\n",
       "       [ 0.,  0.,  1.]])"
      ]
     },
     "execution_count": 105,
     "metadata": {},
     "output_type": "execute_result"
    }
   ],
   "source": [
    "for x in D_array: \n",
    "    print(x.shape)\n",
    "    print(rotate(0).shape)\n",
    "    print(x)\n",
    "    break\n",
    "rotate(0)"
   ]
  },
  {
   "cell_type": "code",
   "execution_count": 113,
   "metadata": {},
   "outputs": [
    {
     "data": {
      "text/plain": [
       "array([[ 0.98006658, -0.09983342,  0.        ],\n",
       "       [ 0.77723879,  0.70365673,  0.52359878],\n",
       "       [ 0.0097344 ,  0.99592884,  0.6981317 ],\n",
       "       [-0.76484219,  0.56464247,  0.78539816],\n",
       "       [-0.98374851, -0.27686582,  0.83775804],\n",
       "       [-0.48794557, -0.9172266 ,  0.87266463]])"
      ]
     },
     "execution_count": 113,
     "metadata": {},
     "output_type": "execute_result"
    }
   ],
   "source": [
    "A = create_A_array(D_array)\n",
    "R = rotate(0) # TODO: This is just the identity matrix - theta should not be zero ?\n",
    "\n",
    "list_RA = list()\n",
    "for p in D_array:\n",
    "    RA = np.dot(p, R)\n",
    "    list_RA.append(list(RA))\n",
    "    \n",
    "#list_RA\n",
    "\n",
    "RA_array = np.array(list_RA)\n",
    "RA_array\n",
    "# print(\"D_array\", D_array)"
   ]
  },
  {
   "cell_type": "code",
   "execution_count": 112,
   "metadata": {},
   "outputs": [
    {
     "data": {
      "text/plain": [
       "array([0.        , 0.52359878, 0.6981317 , 0.78539816, 0.83775804,\n",
       "       0.87266463])"
      ]
     },
     "execution_count": 112,
     "metadata": {},
     "output_type": "execute_result"
    }
   ],
   "source": []
  },
  {
   "cell_type": "code",
   "execution_count": 107,
   "metadata": {},
   "outputs": [
    {
     "ename": "SyntaxError",
     "evalue": "invalid syntax (<ipython-input-107-be32001e041a>, line 13)",
     "output_type": "error",
     "traceback": [
      "\u001b[1;36m  File \u001b[1;32m\"<ipython-input-107-be32001e041a>\"\u001b[1;36m, line \u001b[1;32m13\u001b[0m\n\u001b[1;33m    for\u001b[0m\n\u001b[1;37m       ^\u001b[0m\n\u001b[1;31mSyntaxError\u001b[0m\u001b[1;31m:\u001b[0m invalid syntax\n"
     ]
    }
   ],
   "source": [
    "# Do we have the velocity measurements ?\n",
    "# Controlls\n",
    "\n",
    "x = RA_array[:,0]\n",
    "z = RA_array[:,1]\n",
    "th = RA_array[:,2]\n",
    "\n",
    "run_time  = 7\n",
    "kp_x = 2\n",
    "kp_z = 2\n",
    "kp_th = 2\n",
    "\n",
    "kd_x = 2\n",
    "kd_z = 2\n",
    "kd_th = 2\n",
    "\n",
    "delta_t = .005 # in seconds \n",
    "\n",
    "mass = 1 \n",
    "inertia = .01\n",
    "while delta_t < run_time :\n",
    "\n",
    "    dd_x = kp_x * (target_x - x) + kd_x * (-d_x) \n",
    "    dd_z = kp_z * (target_z - z) + kd_z * (-d_z) \n",
    "    dd_th = kp_t * (target_th - th) + kd_th * (-d_th)\n",
    "    t = t + delta_t\n",
    "    \n",
    "    # assumming mass is 1 and inertia are .01 for now \n",
    "    wrench = [mass * dd_x, mass * dd_z , dd_th * inertia]\n",
    "    \n",
    "    \n",
    "    B = \n",
    "    \n",
    "    \n",
    "    \n",
    "    \n",
    "\n"
   ]
  },
  {
   "cell_type": "code",
   "execution_count": null,
   "metadata": {},
   "outputs": [],
   "source": [
    "# wrench [fx, fy, t]\n"
   ]
  },
  {
   "cell_type": "code",
   "execution_count": null,
   "metadata": {},
   "outputs": [],
   "source": [
    "# TODO include the notes from class that you accummulated \n",
    "from IPython.display import Image\n",
    "Image(\"img/picture.jpg\")"
   ]
  },
  {
   "cell_type": "code",
   "execution_count": null,
   "metadata": {},
   "outputs": [],
   "source": []
  },
  {
   "cell_type": "code",
   "execution_count": 296,
   "metadata": {},
   "outputs": [],
   "source": [
    "# https://medium.com/analytics-vidhya/writing-math-equations-in-jupyter-notebook-a-naive-introduction-a5ce87b9a214\n",
    "# e.g. $\\hat{Y} = \\hat{\\beta}_{0} + \\sum \\limits _{j=1} ^{p} X_{j}\\hat{\\beta}_{j} $"
   ]
  },
  {
   "cell_type": "code",
   "execution_count": null,
   "metadata": {},
   "outputs": [],
   "source": []
  }
 ],
 "metadata": {
  "kernelspec": {
   "display_name": "Python 3",
   "language": "python",
   "name": "python3"
  },
  "language_info": {
   "codemirror_mode": {
    "name": "ipython",
    "version": 3
   },
   "file_extension": ".py",
   "mimetype": "text/x-python",
   "name": "python",
   "nbconvert_exporter": "python",
   "pygments_lexer": "ipython3",
   "version": "3.8.3"
  }
 },
 "nbformat": 4,
 "nbformat_minor": 4
}
