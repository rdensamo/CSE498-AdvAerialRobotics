{
 "cells": [
  {
   "cell_type": "markdown",
   "metadata": {},
   "source": [
    "# MagicBox\n",
    "The magic box is a cuboid object that can generate any force and torque.\n",
    "* Run the scene magicbox.ttt in CoppeliaSim"
   ]
  },
  {
   "cell_type": "code",
   "execution_count": 11,
   "metadata": {},
   "outputs": [
    {
     "name": "stdout",
     "output_type": "stream",
     "text": [
      "Populating the interactive namespace from numpy and matplotlib\n"
     ]
    }
   ],
   "source": [
    "\n",
    "%pylab inline\n",
    "import sim"
   ]
  },
  {
   "cell_type": "markdown",
   "metadata": {},
   "source": [
    "### Check if python is connecting to Coppelia"
   ]
  },
  {
   "cell_type": "code",
   "execution_count": 12,
   "metadata": {},
   "outputs": [
    {
     "name": "stdout",
     "output_type": "stream",
     "text": [
      "Connected\n",
      "Simulation time in milliseconds:  54200\n",
      "MagicBox is at [x,y,z]= [-1.4584918972104788e-05, 2.0041483750343758e-10, 0.09999991953372955]\n",
      "0\n",
      "Disconnected\n"
     ]
    }
   ],
   "source": [
    "sim.simxFinish(-1)  # Close opened connections\n",
    "clientID = sim.simxStart('127.0.0.1', 19999, True, True, 5000, 5)  # Connect to CoppeliaSim\n",
    "\n",
    "if clientID != -1:\n",
    "    print('Connected')\n",
    "\n",
    "    # Now try to retrieve data in a blocking fashion (i.e. a service call):\n",
    "    res, objs = sim.simxGetObjects(clientID, sim.sim_handle_all, sim.simx_opmode_blocking)\n",
    "\n",
    "    print('Simulation time in milliseconds: ', sim.simxGetLastCmdTime(clientID))\n",
    "    \n",
    "    # Get Object position\n",
    "    name = 'MagicBox'\n",
    "    err_code, cuboid = sim.simxGetObjectHandle(clientID, name, sim.simx_opmode_blocking)\n",
    "    res, position = sim.simxGetObjectPosition(clientID, cuboid, -1, sim.simx_opmode_blocking)        \n",
    "    print(name, 'is at [x,y,z]=', position)\n",
    "    \n",
    "    \n",
    "    #res, position = sim.simxAddForce(clientID, name,[0,0,10],[0,0,0])\n",
    "    \n",
    "\n",
    "    res = sim.simxSetFloatSignal(clientID,'fx', 0.0,sim.simx_opmode_oneshot_wait)\n",
    "    print(res)\n",
    "    \n",
    "    # Now close the connection to CoppeliaSim:\n",
    "    sim.simxGetPingTime(clientID)\n",
    "    sim.simxFinish(clientID)\n",
    "    print('Disconnected')\n",
    "else:\n",
    "    print('Failed connecting to remote API server')\n"
   ]
  },
  {
   "cell_type": "markdown",
   "metadata": {},
   "source": [
    "# Robot"
   ]
  },
  {
   "cell_type": "code",
   "execution_count": 13,
   "metadata": {},
   "outputs": [],
   "source": [
    "class robot():\n",
    "    \n",
    "    def __init__(self, frame_name, motor_names=[], client_id=0):  \n",
    "        # If there is an existing connection\n",
    "        if client_id:\n",
    "                self.client_id = client_id\n",
    "        else:\n",
    "            self.client_id = self.open_connection()\n",
    "            \n",
    "        self.motors = self._get_handlers(motor_names) \n",
    "        \n",
    "        # Robot frame\n",
    "        self.frame =  self._get_handler(frame_name)\n",
    "            \n",
    "        \n",
    "    def open_connection(self):\n",
    "        sim.simxFinish(-1)  # just in case, close all opened connections\n",
    "        self.client_id = sim.simxStart('127.0.0.1', 19999, True, True, 5000, 5)  # Connect to CoppeliaSim \n",
    "        \n",
    "        if clientID != -1:\n",
    "            print('Robot connected')\n",
    "        else:\n",
    "            print('Connection failed')\n",
    "        return clientID\n",
    "        \n",
    "    def close_connection(self):    \n",
    "        sim.simxGetPingTime(self.client_id)  # Before closing the connection to CoppeliaSim, make sure that the last command sent out had time to arrive.\n",
    "        sim.simxFinish(self.client_id)  # Now close the connection to CoppeliaSim:\n",
    "        print('Connection closed')\n",
    "    \n",
    "    def isConnected(self):\n",
    "        c,result = sim.simxGetPingTime(self.client_id)\n",
    "        # Return true if the robot is connected\n",
    "        return result > 0         \n",
    "        \n",
    "    def _get_handler(self, name):\n",
    "        err_code, handler = sim.simxGetObjectHandle(self.client_id, name, sim.simx_opmode_blocking)\n",
    "        return handler\n",
    "    \n",
    "    def _get_handlers(self, names):\n",
    "        handlers = []\n",
    "        for name in names:\n",
    "            handler = self._get_handler(name)\n",
    "            handlers.append(handler)\n",
    "        \n",
    "        return handlers\n",
    "\n",
    "    def send_motor_velocities(self, vels):\n",
    "        for motor, vel in zip(self.motors, vels):\n",
    "            err_code = sim.simxSetJointTargetVelocity(self.client_id, \n",
    "                                                      motor, vel, sim.simx_opmode_streaming)      \n",
    "            \n",
    "    def set_position(self, position, relative_object=-1):\n",
    "        if relative_object != -1:\n",
    "            relative_object = self._get_handler(relative_object)        \n",
    "        sim.simxSetObjectPosition(clientID, self.frame, relative_object, position, sim.simx_opmode_oneshot)                \n",
    "        \n",
    "    def simtime(self):\n",
    "        return sim.simxGetLastCmdTime(self.client_id)\n",
    "    \n",
    "    def get_position(self, relative_object=-1):\n",
    "        # Get position relative to an object, -1 for global frame\n",
    "        if relative_object != -1:\n",
    "            relative_object = self._get_handler(relative_object)\n",
    "        res, position = sim.simxGetObjectPosition(self.client_id, self.frame, relative_object, sim.simx_opmode_blocking)        \n",
    "        return array(position)\n",
    "    \n",
    "    # Added this, Was missing get orientation\n",
    "    def get_orientation(self, relative_object=-1): \n",
    "        # Retrieves the orientation (Euler angles) of an object.\n",
    "        if relative_object != -1:\n",
    "            relative_object = self._get_handler(relative_object)\n",
    "        res, orientation = sim.simxGetObjectOrientation(self.client_id, self.frame, relative_object, sim.simx_opmode_blocking)        \n",
    "        return array(orientation)\n",
    "    \n",
    "    def get_velocity(self, relative_object=-1):\n",
    "        # Get velocity relative to an object, -1 for global frame\n",
    "        if relative_object != -1:\n",
    "            relative_object = self._get_handler(relative_object)\n",
    "        res, velocity, omega = sim.simxGetObjectVelocity(self.client_id, self.frame, sim.simx_opmode_blocking)        \n",
    "        return array(velocity), array(omega)\n",
    "    \n",
    "\n",
    "    \n",
    "    def get_object_position(self, object_name):\n",
    "        # Get Object position in the world frame\n",
    "        err_code, object_h = sim.simxGetObjectHandle(self.client_id, object_name, sim.simx_opmode_blocking)\n",
    "        res, position = sim.simxGetObjectPosition(self.client_id, object_h, -1, sim.simx_opmode_blocking)\n",
    "        return array(position)\n",
    "    \n",
    "    def get_object_relative_position(self, object_name):        \n",
    "        # Get Object position in the robot frame\n",
    "        err_code, object_h = sim.simxGetObjectHandle(self.client_id, object_name, sim.simx_opmode_blocking)\n",
    "        res, position = sim.simxGetObjectPosition(self.client_id, object_h, self.frame, sim.simx_opmode_blocking)\n",
    "        return array(position)\n",
    "    \n",
    "    def set_signal(self, signal, value):\n",
    "        return sim.simxSetFloatSignal(clientID, signal, value, sim.simx_opmode_oneshot_wait)\n",
    "        \n",
    "    def wrench(self, w):\n",
    "        names = ['fx', 'fy', 'fz', 'Mx', 'My', 'Mz']\n",
    "        for ni, wi in zip(names, w):\n",
    "            self.set_signal(ni, wi)\n",
    "        "
   ]
  },
  {
   "cell_type": "code",
   "execution_count": 14,
   "metadata": {},
   "outputs": [
    {
     "name": "stdout",
     "output_type": "stream",
     "text": [
      "Robot connected\n",
      "Connection closed\n"
     ]
    }
   ],
   "source": [
    "# Send force to a robot\n",
    "r = robot('MagicBox')  # Create an instance of our robot\n",
    "r.wrench([0,0,0,0,0,0])\n",
    "\n",
    "r.close_connection()  "
   ]
  },
  {
   "cell_type": "markdown",
   "metadata": {},
   "source": [
    "# PD-Control"
   ]
  },
  {
   "cell_type": "code",
   "execution_count": 15,
   "metadata": {},
   "outputs": [],
   "source": [
    "# Rotation Euler Angles Tait-Bryan convention - https://coppeliarobotics.com/helpFiles/en/eulerAngles.htm\n",
    "import numpy as np\n",
    "\n",
    "# Rotation around Z-axis \n",
    "def yaw_rotateZ(w):\n",
    "    yaw = [[1, 0, 0], [0 , np.cos(w),  - np.sin(w)], [0, np.sin(w), np.cos(w)]]  \n",
    "    return yaw\n",
    "\n",
    "\n",
    "# Rotation around Y-axis \n",
    "def pitch_rotateY(v):\n",
    "    pitch = [[np.cos(v), 0 , np.sin(v)], [0, 1, 0], [-np.sin(v), 0, np.cos(v)]]   \n",
    "    return pitch\n",
    "\n",
    "\n",
    "# Rotation around X-axis \n",
    "def roll_rotateX(u):\n",
    "    roll = [ [np.cos(u), - np.sin(u), 0], [np.sin(u), np.cos(u), 0], [0, 0, 1]]  \n",
    "    return roll\n",
    "\n",
    "    "
   ]
  },
  {
   "cell_type": "code",
   "execution_count": null,
   "metadata": {},
   "outputs": [],
   "source": [
    "# Send force to a robot\n",
    "r = robot('MagicBox')  # Create an instance of our robot\n",
    "d = robot('DesiredBox')\n",
    "\n",
    "m = 8 #kg mass of the block plus the mass of the prop\n",
    "g = 9.81\n",
    "I = 80\n",
    "\n",
    "log = []\n",
    "print(\"r position:\", r.get_position())\n",
    "print(\"d position:\", d.get_position())\n",
    "\n",
    "print(\"r orientation:\", r.get_orientation())\n",
    "print(\"d orientation:\", d.get_orientation()  + [0, 0, 5])\n",
    "while True:\n",
    "    # Robot state\n",
    "    p = r.get_position()\n",
    "    v, ω = r.get_velocity()\n",
    "    theta = r.get_orientation()\n",
    "    \n",
    "    # Desired state\n",
    "    p_d = d.get_position() + [0, 0, 5] # Because we want it to be flying, in the air \n",
    "    v_d, ω_d = d.get_velocity()\n",
    "    theta_d = d.get_orientation()\n",
    "  \n",
    "   \n",
    "    ep = p_d - p\n",
    "    ev = v_d - v\n",
    "    eω = ω_d - ω\n",
    "    # error in orientation\n",
    "    et = theta_d - theta \n",
    "    \n",
    "    \n",
    "    kp, kd = 0.03, 0.25\n",
    "    a = kp * ep + kd * ev\n",
    "    \n",
    "    # angular acceleration\n",
    "    kp_th , kd_th = 0.2, 0.2 \n",
    "    ath = kp_th * et + kd_th * ew  \n",
    "    \n",
    "                \n",
    "    f = m * a\n",
    "    f[2] += m*g\n",
    "    \n",
    "    \n",
    "    # Using Euler angles \n",
    "    u_r, v_r, w_r = r.get_orientation()\n",
    "    u_d, v_d, w_d = d.get_orientation()\n",
    "    \n",
    "    R_r = yaw_rotateZ(u_r) * pitch_rotateY(v_r) * roll_rotateX(w_r)\n",
    "    f_r = f * R_r \n",
    "\n",
    "    R_d = yaw_rotateZ(u_d) * pitch_rotateY(v_d) * roll_rotateX(w_d)\n",
    "    f_d = f * R_d \n",
    "    \n",
    "    # TODO: How do you get the torques > p X f ?\n",
    "    \n",
    "    \n",
    "    # Homework 6:\n",
    "    # 1- Change the force from world frame to body frame\n",
    "    # 2- Get the rotation matrix from world to body/magic box frame. Note: you can use euler angles instead of rotation matrices\n",
    "    # 3- Get the rotation matrix from world to body/desired box frame\n",
    "    # 4- Compute the error in orientation\n",
    "    # 5- PD controller -> angular acceleration\n",
    "    # 6- Compute torques\n",
    "    # 7- send the wrench\n",
    "    \n",
    "    r.wrench([f[0], f[1], f[2], 0,0,0])\n",
    "    \n",
    "    \n",
    "    log.append(ep)\n",
    "    time.sleep(0.001)"
   ]
  },
  {
   "cell_type": "code",
   "execution_count": null,
   "metadata": {},
   "outputs": [],
   "source": [
    "r.close_connection()\n",
    "d.close_connection()"
   ]
  },
  {
   "cell_type": "code",
   "execution_count": null,
   "metadata": {},
   "outputs": [],
   "source": [
    "log = array(log)\n",
    "plot(log[:,0], label='$e_x$')\n",
    "plot(log[:,1], label='$e_y$')\n",
    "plot(log[:,2], label='$e_z$')\n",
    "title('Position')\n",
    "legend()"
   ]
  },
  {
   "cell_type": "code",
   "execution_count": null,
   "metadata": {},
   "outputs": [],
   "source": []
  }
 ],
 "metadata": {
  "kernelspec": {
   "display_name": "Python 3",
   "language": "python",
   "name": "python3"
  },
  "language_info": {
   "codemirror_mode": {
    "name": "ipython",
    "version": 3
   },
   "file_extension": ".py",
   "mimetype": "text/x-python",
   "name": "python",
   "nbconvert_exporter": "python",
   "pygments_lexer": "ipython3",
   "version": "3.8.3"
  }
 },
 "nbformat": 4,
 "nbformat_minor": 4
}
