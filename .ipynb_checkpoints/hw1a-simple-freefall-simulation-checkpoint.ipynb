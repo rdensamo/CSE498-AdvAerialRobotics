{
 "cells": [
  {
   "cell_type": "code",
   "execution_count": 1,
   "metadata": {},
   "outputs": [
    {
     "name": "stdout",
     "output_type": "stream",
     "text": [
      "Populating the interactive namespace from numpy and matplotlib\n"
     ]
    },
    {
     "data": {
      "text/plain": [
       "'\\npylab is a magic function in ipython.\\n\\nMagic functions in ipython always begin with the percent sign (%) followed without any spaces by a small text string;\\nin essence, ipython magic functions define shortcuts particularly useful for interactive work,\\n'"
      ]
     },
     "execution_count": 1,
     "metadata": {},
     "output_type": "execute_result"
    }
   ],
   "source": [
    "%pylab inline\n",
    "plt.style.use('dark_background')\n",
    "pylab.rcParams['figure.figsize'] = (10.0, 6.0)\n",
    "'''\n",
    "pylab is a magic function in ipython.\n",
    "\n",
    "Magic functions in ipython always begin with the percent sign (%) followed without any spaces by a small text string;\n",
    "in essence, ipython magic functions define shortcuts particularly useful for interactive work,\n",
    "'''"
   ]
  },
  {
   "cell_type": "markdown",
   "metadata": {},
   "source": [
    "# Free-Fall Position Update "
   ]
  },
  {
   "cell_type": "code",
   "execution_count": 2,
   "metadata": {},
   "outputs": [
    {
     "name": "stdout",
     "output_type": "stream",
     "text": [
      "Time (delta_t=0.5) :  [0, 0.005, 0.01, 0.015, 0.02, 0.025, 0.030000000000000002, 0.035, 0.04, 0.045, 0.049999999999999996, 0.05499999999999999, 0.05999999999999999, 0.06499999999999999, 0.06999999999999999, 0.075, 0.08, 0.085, 0.09000000000000001, 0.09500000000000001, 0.10000000000000002]\n",
      "Z positon at time t:  [10.0, 9.951, 9.853, 9.706, 9.51, 9.265, 8.971, 8.628, 8.236, 7.795000000000001, 7.305000000000001, 6.766000000000001, 6.178000000000001, 5.541000000000001, 4.855000000000001, 4.120000000000001, 3.336000000000001, 2.503000000000001, 1.6210000000000009, 0.6900000000000007, -0.2899999999999996]\n"
     ]
    },
    {
     "data": {
      "image/png": "[encoded data removed]",
      "text/plain": [
       "<Figure size 720x432 with 1 Axes>"
      ]
     },
     "metadata": {},
     "output_type": "display_data"
    }
   ],
   "source": [
    "#import time\n",
    "import numpy as np\n",
    "\n",
    "'''\n",
    "Free-Fall Position Update\n",
    "'''\n",
    "z_positions = []\n",
    "time_intervals = []\n",
    "\n",
    "pose = np.ndarray((3,), dtype=float, buffer=np.array([0.0, 0.0, 10.0]))\n",
    "velocity = np.ndarray((3,), dtype=float, buffer=np.array([0.0, 0.0, 0.0]))\n",
    "delta_t = .005\n",
    "g = -9.8\n",
    "t = 0\n",
    "i = 0\n",
    "#print(pose[2])\n",
    "\n",
    "while pose[2] > 0:\n",
    "    dz_dt = g*t\n",
    "    pose = pose + [0,0,dz_dt]\n",
    "    z_positions.append(pose[2])\n",
    "    time_intervals.append((t))\n",
    "    t = t + delta_t\n",
    "\n",
    "\n",
    "import matplotlib.pyplot as plt\n",
    "from matplotlib.animation import FuncAnimation\n",
    "\n",
    "\n",
    "\n",
    "print(\"Time (delta_t=0.5) : \", time_intervals)\n",
    "print(\"Z positon at time t: \",z_positions)\n",
    "plt.plot(time_intervals,z_positions)\n",
    "\n",
    "plt.show()"
   ]
  },
  {
   "cell_type": "code",
   "execution_count": null,
   "metadata": {},
   "outputs": [],
   "source": [
    "!pip install JSAnimation"
   ]
  },
  {
   "cell_type": "markdown",
   "metadata": {},
   "source": [
    "### Running the simulator"
   ]
  },
  {
   "cell_type": "code",
   "execution_count": null,
   "metadata": {},
   "outputs": [],
   "source": [
    "import matplotlib.pyplot as plt\n",
    "from matplotlib import animation\n",
    "from JSAnimation import IPython_display    \n",
    "from IPython.display import HTML\n",
    "\n",
    "fig, ax = plt.subplots()\n",
    "ax.set_xlim(-5, 5)\n",
    "ax.set_ylim(0, 20)\n",
    "line, = ax.plot(0, 0)\n",
    "\n",
    "x_data = []\n",
    "y_data = []\n",
    "def animation_frame(i):\n",
    "\tx_data.append(0)\n",
    "\ty_data.append(z_positions[i])\n",
    "\n",
    "\tline.set_xdata(x_data)\n",
    "\tline.set_ydata(y_data)\n",
    "\treturn line,\n",
    "\n",
    "# interval is time delay (ie every 10 miliseconds )\n",
    "animation = FuncAnimation(fig, func=animation_frame, frames=np.arange(0, len(time_intervals), 1), interval=5)\n",
    "plt.title('Simulation of Free Fall')\n",
    "plt.xlabel('Ground / Y-Axis')\n",
    "plt.ylabel('Pose[3]  Z - position')\n",
    "\n",
    "HTML(animation.to_jshtml())"
   ]
  },
  {
   "cell_type": "code",
   "execution_count": null,
   "metadata": {},
   "outputs": [],
   "source": []
  }
 ],
 "metadata": {
  "kernelspec": {
   "display_name": "Python 3",
   "language": "python",
   "name": "python3"
  },
  "language_info": {
   "codemirror_mode": {
    "name": "ipython",
    "version": 3
   },
   "file_extension": ".py",
   "mimetype": "text/x-python",
   "name": "python",
   "nbconvert_exporter": "python",
   "pygments_lexer": "ipython3",
   "version": "3.8.5"
  }
 },
 "nbformat": 4,
 "nbformat_minor": 4
}
